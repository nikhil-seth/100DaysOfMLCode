{
 "cells": [
  {
   "cell_type": "markdown",
   "metadata": {},
   "source": [
    "# Image Recognation with MNIST dataset."
   ]
  },
  {
   "cell_type": "markdown",
   "metadata": {},
   "source": [
    "### This is acheived by using CNN implementation in keras with multiple layers"
   ]
  },
  {
   "cell_type": "markdown",
   "metadata": {},
   "source": [
    "### __1-Importing Libraries__"
   ]
  },
  {
   "cell_type": "code",
   "execution_count": 1,
   "metadata": {},
   "outputs": [],
   "source": [
    "# Importing pandas for I/0 ,Numpy for computational methods ,Matplotlib for plotting graphs &  tensorflow.\n",
    "import pandas as pd\n",
    "import numpy as np\n",
    "import matplotlib.pyplot as plt\n",
    "import tensorflow as tf"
   ]
  },
  {
   "cell_type": "markdown",
   "metadata": {},
   "source": [
    "### 2. Importing data from csv"
   ]
  },
  {
   "cell_type": "code",
   "execution_count": 2,
   "metadata": {},
   "outputs": [],
   "source": [
    "train=pd.read_csv('train.csv') # Includes Training data with labels\n",
    "test=pd.read_csv('test.csv')   # Includes Testing data.\n"
   ]
  },
  {
   "cell_type": "markdown",
   "metadata": {},
   "source": [
    "### 3. Understanding data"
   ]
  },
  {
   "cell_type": "code",
   "execution_count": 3,
   "metadata": {},
   "outputs": [
    {
     "data": {
      "text/html": [
       "<div>\n",
       "<style scoped>\n",
       "    .dataframe tbody tr th:only-of-type {\n",
       "        vertical-align: middle;\n",
       "    }\n",
       "\n",
       "    .dataframe tbody tr th {\n",
       "        vertical-align: top;\n",
       "    }\n",
       "\n",
       "    .dataframe thead th {\n",
       "        text-align: right;\n",
       "    }\n",
       "</style>\n",
       "<table border=\"1\" class=\"dataframe\">\n",
       "  <thead>\n",
       "    <tr style=\"text-align: right;\">\n",
       "      <th></th>\n",
       "      <th>label</th>\n",
       "      <th>pixel0</th>\n",
       "      <th>pixel1</th>\n",
       "      <th>pixel2</th>\n",
       "      <th>pixel3</th>\n",
       "      <th>pixel4</th>\n",
       "      <th>pixel5</th>\n",
       "      <th>pixel6</th>\n",
       "      <th>pixel7</th>\n",
       "      <th>pixel8</th>\n",
       "      <th>...</th>\n",
       "      <th>pixel774</th>\n",
       "      <th>pixel775</th>\n",
       "      <th>pixel776</th>\n",
       "      <th>pixel777</th>\n",
       "      <th>pixel778</th>\n",
       "      <th>pixel779</th>\n",
       "      <th>pixel780</th>\n",
       "      <th>pixel781</th>\n",
       "      <th>pixel782</th>\n",
       "      <th>pixel783</th>\n",
       "    </tr>\n",
       "  </thead>\n",
       "  <tbody>\n",
       "    <tr>\n",
       "      <th>count</th>\n",
       "      <td>42000.000000</td>\n",
       "      <td>42000.0</td>\n",
       "      <td>42000.0</td>\n",
       "      <td>42000.0</td>\n",
       "      <td>42000.0</td>\n",
       "      <td>42000.0</td>\n",
       "      <td>42000.0</td>\n",
       "      <td>42000.0</td>\n",
       "      <td>42000.0</td>\n",
       "      <td>42000.0</td>\n",
       "      <td>...</td>\n",
       "      <td>42000.000000</td>\n",
       "      <td>42000.000000</td>\n",
       "      <td>42000.000000</td>\n",
       "      <td>42000.00000</td>\n",
       "      <td>42000.000000</td>\n",
       "      <td>42000.000000</td>\n",
       "      <td>42000.0</td>\n",
       "      <td>42000.0</td>\n",
       "      <td>42000.0</td>\n",
       "      <td>42000.0</td>\n",
       "    </tr>\n",
       "    <tr>\n",
       "      <th>mean</th>\n",
       "      <td>4.456643</td>\n",
       "      <td>0.0</td>\n",
       "      <td>0.0</td>\n",
       "      <td>0.0</td>\n",
       "      <td>0.0</td>\n",
       "      <td>0.0</td>\n",
       "      <td>0.0</td>\n",
       "      <td>0.0</td>\n",
       "      <td>0.0</td>\n",
       "      <td>0.0</td>\n",
       "      <td>...</td>\n",
       "      <td>0.219286</td>\n",
       "      <td>0.117095</td>\n",
       "      <td>0.059024</td>\n",
       "      <td>0.02019</td>\n",
       "      <td>0.017238</td>\n",
       "      <td>0.002857</td>\n",
       "      <td>0.0</td>\n",
       "      <td>0.0</td>\n",
       "      <td>0.0</td>\n",
       "      <td>0.0</td>\n",
       "    </tr>\n",
       "    <tr>\n",
       "      <th>std</th>\n",
       "      <td>2.887730</td>\n",
       "      <td>0.0</td>\n",
       "      <td>0.0</td>\n",
       "      <td>0.0</td>\n",
       "      <td>0.0</td>\n",
       "      <td>0.0</td>\n",
       "      <td>0.0</td>\n",
       "      <td>0.0</td>\n",
       "      <td>0.0</td>\n",
       "      <td>0.0</td>\n",
       "      <td>...</td>\n",
       "      <td>6.312890</td>\n",
       "      <td>4.633819</td>\n",
       "      <td>3.274488</td>\n",
       "      <td>1.75987</td>\n",
       "      <td>1.894498</td>\n",
       "      <td>0.414264</td>\n",
       "      <td>0.0</td>\n",
       "      <td>0.0</td>\n",
       "      <td>0.0</td>\n",
       "      <td>0.0</td>\n",
       "    </tr>\n",
       "    <tr>\n",
       "      <th>min</th>\n",
       "      <td>0.000000</td>\n",
       "      <td>0.0</td>\n",
       "      <td>0.0</td>\n",
       "      <td>0.0</td>\n",
       "      <td>0.0</td>\n",
       "      <td>0.0</td>\n",
       "      <td>0.0</td>\n",
       "      <td>0.0</td>\n",
       "      <td>0.0</td>\n",
       "      <td>0.0</td>\n",
       "      <td>...</td>\n",
       "      <td>0.000000</td>\n",
       "      <td>0.000000</td>\n",
       "      <td>0.000000</td>\n",
       "      <td>0.00000</td>\n",
       "      <td>0.000000</td>\n",
       "      <td>0.000000</td>\n",
       "      <td>0.0</td>\n",
       "      <td>0.0</td>\n",
       "      <td>0.0</td>\n",
       "      <td>0.0</td>\n",
       "    </tr>\n",
       "    <tr>\n",
       "      <th>25%</th>\n",
       "      <td>2.000000</td>\n",
       "      <td>0.0</td>\n",
       "      <td>0.0</td>\n",
       "      <td>0.0</td>\n",
       "      <td>0.0</td>\n",
       "      <td>0.0</td>\n",
       "      <td>0.0</td>\n",
       "      <td>0.0</td>\n",
       "      <td>0.0</td>\n",
       "      <td>0.0</td>\n",
       "      <td>...</td>\n",
       "      <td>0.000000</td>\n",
       "      <td>0.000000</td>\n",
       "      <td>0.000000</td>\n",
       "      <td>0.00000</td>\n",
       "      <td>0.000000</td>\n",
       "      <td>0.000000</td>\n",
       "      <td>0.0</td>\n",
       "      <td>0.0</td>\n",
       "      <td>0.0</td>\n",
       "      <td>0.0</td>\n",
       "    </tr>\n",
       "    <tr>\n",
       "      <th>50%</th>\n",
       "      <td>4.000000</td>\n",
       "      <td>0.0</td>\n",
       "      <td>0.0</td>\n",
       "      <td>0.0</td>\n",
       "      <td>0.0</td>\n",
       "      <td>0.0</td>\n",
       "      <td>0.0</td>\n",
       "      <td>0.0</td>\n",
       "      <td>0.0</td>\n",
       "      <td>0.0</td>\n",
       "      <td>...</td>\n",
       "      <td>0.000000</td>\n",
       "      <td>0.000000</td>\n",
       "      <td>0.000000</td>\n",
       "      <td>0.00000</td>\n",
       "      <td>0.000000</td>\n",
       "      <td>0.000000</td>\n",
       "      <td>0.0</td>\n",
       "      <td>0.0</td>\n",
       "      <td>0.0</td>\n",
       "      <td>0.0</td>\n",
       "    </tr>\n",
       "    <tr>\n",
       "      <th>75%</th>\n",
       "      <td>7.000000</td>\n",
       "      <td>0.0</td>\n",
       "      <td>0.0</td>\n",
       "      <td>0.0</td>\n",
       "      <td>0.0</td>\n",
       "      <td>0.0</td>\n",
       "      <td>0.0</td>\n",
       "      <td>0.0</td>\n",
       "      <td>0.0</td>\n",
       "      <td>0.0</td>\n",
       "      <td>...</td>\n",
       "      <td>0.000000</td>\n",
       "      <td>0.000000</td>\n",
       "      <td>0.000000</td>\n",
       "      <td>0.00000</td>\n",
       "      <td>0.000000</td>\n",
       "      <td>0.000000</td>\n",
       "      <td>0.0</td>\n",
       "      <td>0.0</td>\n",
       "      <td>0.0</td>\n",
       "      <td>0.0</td>\n",
       "    </tr>\n",
       "    <tr>\n",
       "      <th>max</th>\n",
       "      <td>9.000000</td>\n",
       "      <td>0.0</td>\n",
       "      <td>0.0</td>\n",
       "      <td>0.0</td>\n",
       "      <td>0.0</td>\n",
       "      <td>0.0</td>\n",
       "      <td>0.0</td>\n",
       "      <td>0.0</td>\n",
       "      <td>0.0</td>\n",
       "      <td>0.0</td>\n",
       "      <td>...</td>\n",
       "      <td>254.000000</td>\n",
       "      <td>254.000000</td>\n",
       "      <td>253.000000</td>\n",
       "      <td>253.00000</td>\n",
       "      <td>254.000000</td>\n",
       "      <td>62.000000</td>\n",
       "      <td>0.0</td>\n",
       "      <td>0.0</td>\n",
       "      <td>0.0</td>\n",
       "      <td>0.0</td>\n",
       "    </tr>\n",
       "  </tbody>\n",
       "</table>\n",
       "<p>8 rows × 785 columns</p>\n",
       "</div>"
      ],
      "text/plain": [
       "              label   pixel0   pixel1   pixel2   pixel3   pixel4   pixel5  \\\n",
       "count  42000.000000  42000.0  42000.0  42000.0  42000.0  42000.0  42000.0   \n",
       "mean       4.456643      0.0      0.0      0.0      0.0      0.0      0.0   \n",
       "std        2.887730      0.0      0.0      0.0      0.0      0.0      0.0   \n",
       "min        0.000000      0.0      0.0      0.0      0.0      0.0      0.0   \n",
       "25%        2.000000      0.0      0.0      0.0      0.0      0.0      0.0   \n",
       "50%        4.000000      0.0      0.0      0.0      0.0      0.0      0.0   \n",
       "75%        7.000000      0.0      0.0      0.0      0.0      0.0      0.0   \n",
       "max        9.000000      0.0      0.0      0.0      0.0      0.0      0.0   \n",
       "\n",
       "        pixel6   pixel7   pixel8    ...         pixel774      pixel775  \\\n",
       "count  42000.0  42000.0  42000.0    ...     42000.000000  42000.000000   \n",
       "mean       0.0      0.0      0.0    ...         0.219286      0.117095   \n",
       "std        0.0      0.0      0.0    ...         6.312890      4.633819   \n",
       "min        0.0      0.0      0.0    ...         0.000000      0.000000   \n",
       "25%        0.0      0.0      0.0    ...         0.000000      0.000000   \n",
       "50%        0.0      0.0      0.0    ...         0.000000      0.000000   \n",
       "75%        0.0      0.0      0.0    ...         0.000000      0.000000   \n",
       "max        0.0      0.0      0.0    ...       254.000000    254.000000   \n",
       "\n",
       "           pixel776     pixel777      pixel778      pixel779  pixel780  \\\n",
       "count  42000.000000  42000.00000  42000.000000  42000.000000   42000.0   \n",
       "mean       0.059024      0.02019      0.017238      0.002857       0.0   \n",
       "std        3.274488      1.75987      1.894498      0.414264       0.0   \n",
       "min        0.000000      0.00000      0.000000      0.000000       0.0   \n",
       "25%        0.000000      0.00000      0.000000      0.000000       0.0   \n",
       "50%        0.000000      0.00000      0.000000      0.000000       0.0   \n",
       "75%        0.000000      0.00000      0.000000      0.000000       0.0   \n",
       "max      253.000000    253.00000    254.000000     62.000000       0.0   \n",
       "\n",
       "       pixel781  pixel782  pixel783  \n",
       "count   42000.0   42000.0   42000.0  \n",
       "mean        0.0       0.0       0.0  \n",
       "std         0.0       0.0       0.0  \n",
       "min         0.0       0.0       0.0  \n",
       "25%         0.0       0.0       0.0  \n",
       "50%         0.0       0.0       0.0  \n",
       "75%         0.0       0.0       0.0  \n",
       "max         0.0       0.0       0.0  \n",
       "\n",
       "[8 rows x 785 columns]"
      ]
     },
     "execution_count": 3,
     "metadata": {},
     "output_type": "execute_result"
    }
   ],
   "source": [
    "train.describe() # Gives various quantities of info."
   ]
  },
  {
   "cell_type": "code",
   "execution_count": 4,
   "metadata": {},
   "outputs": [
    {
     "name": "stdout",
     "output_type": "stream",
     "text": [
      "Training data size : (42000, 785)\n",
      "Test data size : (28000, 784)\n",
      "No of Training Eg : 42000\n",
      "No of Testing Eg : 28000\n"
     ]
    }
   ],
   "source": [
    "print(\"Training data size :\",train.shape)\n",
    "print(\"Test data size :\",test.shape)\n",
    "print(\"No of Training Eg :\",train.shape[0])\n",
    "print(\"No of Testing Eg :\",test.shape[0])"
   ]
  },
  {
   "cell_type": "code",
   "execution_count": 5,
   "metadata": {},
   "outputs": [
    {
     "name": "stdout",
     "output_type": "stream",
     "text": [
      "Below plot shows that training data is not skewed\n"
     ]
    },
    {
     "data": {
      "image/png": "[encoded data removed]",
      "text/plain": [
       "<Figure size 432x288 with 1 Axes>"
      ]
     },
     "metadata": {},
     "output_type": "display_data"
    }
   ],
   "source": [
    "plt.hist(train['label'],color='g',edgecolor='white', linewidth=1)\n",
    "plt.title('Labels Histogram')\n",
    "plt.xlabel(\"Value\")\n",
    "plt.ylabel(\"Frequency\")\n",
    "fig = plt.gcf()\n",
    "print(\"Below plot shows that training data is not skewed\")"
   ]
  },
  {
   "cell_type": "markdown",
   "metadata": {},
   "source": [
    "### 4. Converting data into X & Y , & normalizing the inputs."
   ]
  },
  {
   "cell_type": "code",
   "execution_count": 6,
   "metadata": {},
   "outputs": [],
   "source": [
    "Y=train['label']\n",
    "X=train.drop(labels=['label'],axis=1)\n",
    "X=X/255\n",
    "test=test/255\n",
    "X=X.values\n",
    "test=test.values\n",
    "Y=Y.values\n",
    "X=X.reshape(-1,28,28,1)\n",
    "test=test.reshape(-1,28,28,1)"
   ]
  },
  {
   "cell_type": "markdown",
   "metadata": {},
   "source": [
    "### 5. Performing One Hot Encoding on labels of training Dataset.\n"
   ]
  },
  {
   "cell_type": "code",
   "execution_count": 7,
   "metadata": {},
   "outputs": [
    {
     "name": "stderr",
     "output_type": "stream",
     "text": [
      "Using TensorFlow backend.\n"
     ]
    }
   ],
   "source": [
    "from keras.utils import np_utils\n",
    "Y=np_utils.to_categorical(Y,num_classes=10)\n"
   ]
  },
  {
   "cell_type": "markdown",
   "metadata": {},
   "source": [
    "### 6. Making Train Test split for Testing the model."
   ]
  },
  {
   "cell_type": "code",
   "execution_count": 8,
   "metadata": {},
   "outputs": [],
   "source": [
    "from sklearn.model_selection import train_test_split\n",
    "X_train,X_test,Y_train,Y_test  = train_test_split(X,Y,test_size = 0.05)\n"
   ]
  },
  {
   "cell_type": "markdown",
   "metadata": {},
   "source": [
    "## Making Structure of CNN in keras."
   ]
  },
  {
   "cell_type": "code",
   "execution_count": 9,
   "metadata": {},
   "outputs": [],
   "source": [
    "from keras import optimizers\n",
    "from keras.models import Sequential\n",
    "from keras.layers import Dense, Dropout, Flatten, Conv2D, MaxPool2D\n",
    "from keras.callbacks import ReduceLROnPlateau\n",
    "from keras.preprocessing.image import ImageDataGenerator"
   ]
  },
  {
   "cell_type": "markdown",
   "metadata": {},
   "source": [
    "Model would be a Sequential model based on CNN with dropout regularization, Adam Optimizer, ReduceLROnPlateau Learning Rate optimization."
   ]
  },
  {
   "cell_type": "code",
   "execution_count": 10,
   "metadata": {},
   "outputs": [],
   "source": [
    "model=Sequential()\n",
    "# Makes a model with Sequential Layers.\n",
    "model.add(Conv2D(filters=32,kernel_size=(3,3),padding='Same',activation='relu',input_shape=(28,28,1)))\n",
    "# Adds 32 3x3 Filters of Same padding & Relu Activation Function.\n",
    "model.add(Conv2D(filters=64,kernel_size=(3,3),padding='valid',activation='relu'))\n",
    "# Adds 64 3x3 Filters of valid padding & Relu Activation Function.\n",
    "model.add(MaxPool2D(pool_size=(2,2)))\n",
    "# Using maxPool layer of 2x2 to reduce size of input.\n",
    "model.add(Dropout(0.25))\n",
    "# Adds Dropout Layer\n",
    "model.add(Conv2D(filters = 128, kernel_size = (3,3),padding = 'Same', \n",
    "                 activation ='relu'))\n",
    "# Adds 128 filters with 3x3 kernel size with Same padding & Relu activation function.\n",
    "model.add(Conv2D(filters=256,kernel_size=(5,5),padding='valid',activation='relu'))\n",
    "# Adds 256 5x5 Filters of valid padding & Relu Activation Function.\n",
    "model.add(MaxPool2D(pool_size=(3,3)))\n",
    "# Using maxPool layer of 3x3 to reduce size of input.\n",
    "model.add(Dropout(0.25))\n",
    "# Adds Dropout Regularization.\n",
    "model.add(Conv2D(filters=512,kernel_size=(3,3),padding='valid',activation='relu'))\n",
    "# Adds 512 3x3 Filters of valid padding & Relu Activation Function.\n",
    "model.add(Flatten())\n",
    "# Flattens the Matrix of 1x1x512.\n",
    "model.add(Dense(256, activation = \"relu\"))\n",
    "# Adding Dense ( Normal NN layer ) with 256 units & relu activation.\n",
    "model.add(Dropout(0.5))\n",
    "# Adds Dropout\n",
    "model.add(Dense(128, activation = \"relu\"))\n",
    "# Adding Dense ( Normal NN layer ) with 128 units & relu activation.\n",
    "model.add(Dense(32, activation = \"relu\"))\n",
    "# Adding Dense ( Normal NN layer ) with 32 units & relu activation.\n",
    "model.add(Dense(10, activation = \"softmax\"))\n",
    "# Adding Softmax layer with 10 units for final output."
   ]
  },
  {
   "cell_type": "code",
   "execution_count": 11,
   "metadata": {},
   "outputs": [],
   "source": [
    "#Using Adam Optimizer with default parameters as in Research Paper.\n",
    "optimizer=optimizers.Adam(lr=0.001, beta_1=0.9, beta_2=0.999, epsilon=None, decay=0.0, amsgrad=False)\n",
    "\n",
    "# Using Categorical Crossentropy as loss function.\n",
    "model.compile(optimizer = optimizer , loss = \"categorical_crossentropy\", metrics=[\"accuracy\"])\n",
    "# ReduceLROnPlateau for Changing LR when Plateau is detected in loss graph.\n",
    "lr_reduce = ReduceLROnPlateau(monitor='val_acc', \n",
    "                                            patience=3, \n",
    "                                            verbose=1, \n",
    "                                            factor=0.5, \n",
    "                                            min_lr=0.00001)\n",
    "epochs = 50 \n",
    "batch_size = 85"
   ]
  },
  {
   "cell_type": "markdown",
   "metadata": {},
   "source": [
    "__Doing Data Augmentation to increase data.__"
   ]
  },
  {
   "cell_type": "code",
   "execution_count": 12,
   "metadata": {},
   "outputs": [],
   "source": [
    "datagenerator = ImageDataGenerator(\n",
    "        featurewise_center=False,  # set input mean to 0 over the dataset\n",
    "        samplewise_center=False,  # set each sample mean to 0\n",
    "        featurewise_std_normalization=False,  # divide inputs by std of the dataset\n",
    "        samplewise_std_normalization=False,  # divide each input by its std\n",
    "        zca_whitening=False,  # apply ZCA whitening\n",
    "        rotation_range=10,  # randomly rotate images in the range (degrees, 0 to 180)\n",
    "        zoom_range = 0.1, # Randomly zoom image \n",
    "        width_shift_range=0.1,  # randomly shift images horizontally (fraction of total width)\n",
    "        height_shift_range=0.1,  # randomly shift images vertically (fraction of total height)\n",
    "        horizontal_flip=False,  # randomly flip images\n",
    "        vertical_flip=False)  # randomly flip images"
   ]
  },
  {
   "cell_type": "code",
   "execution_count": 13,
   "metadata": {},
   "outputs": [
    {
     "name": "stdout",
     "output_type": "stream",
     "text": [
      "Epoch 1/50\n",
      " - 36s - loss: 0.4625 - acc: 0.8440 - val_loss: 0.0604 - val_acc: 0.9829\n",
      "Epoch 2/50\n",
      " - 23s - loss: 0.0996 - acc: 0.9719 - val_loss: 0.0385 - val_acc: 0.9900\n",
      "Epoch 3/50\n",
      " - 23s - loss: 0.0736 - acc: 0.9792 - val_loss: 0.0355 - val_acc: 0.9924\n",
      "Epoch 4/50\n",
      " - 23s - loss: 0.0639 - acc: 0.9825 - val_loss: 0.0273 - val_acc: 0.9938\n",
      "Epoch 5/50\n",
      " - 23s - loss: 0.0560 - acc: 0.9849 - val_loss: 0.0343 - val_acc: 0.9929\n",
      "Epoch 6/50\n",
      " - 23s - loss: 0.0495 - acc: 0.9864 - val_loss: 0.0305 - val_acc: 0.9910\n",
      "Epoch 7/50\n",
      " - 23s - loss: 0.0471 - acc: 0.9871 - val_loss: 0.0312 - val_acc: 0.9943\n",
      "Epoch 8/50\n",
      " - 23s - loss: 0.0460 - acc: 0.9868 - val_loss: 0.0317 - val_acc: 0.9948\n",
      "Epoch 9/50\n",
      " - 23s - loss: 0.0437 - acc: 0.9891 - val_loss: 0.0247 - val_acc: 0.9957\n",
      "Epoch 10/50\n",
      " - 23s - loss: 0.0384 - acc: 0.9896 - val_loss: 0.0217 - val_acc: 0.9962\n",
      "Epoch 11/50\n",
      " - 23s - loss: 0.0399 - acc: 0.9892 - val_loss: 0.0303 - val_acc: 0.9948\n",
      "Epoch 12/50\n",
      " - 23s - loss: 0.0361 - acc: 0.9906 - val_loss: 0.0282 - val_acc: 0.9943\n",
      "Epoch 13/50\n",
      " - 23s - loss: 0.0359 - acc: 0.9905 - val_loss: 0.0217 - val_acc: 0.9943\n",
      "\n",
      "Epoch 00013: ReduceLROnPlateau reducing learning rate to 0.0005000000237487257.\n",
      "Epoch 14/50\n",
      " - 23s - loss: 0.0226 - acc: 0.9939 - val_loss: 0.0204 - val_acc: 0.9962\n",
      "Epoch 15/50\n",
      " - 23s - loss: 0.0206 - acc: 0.9943 - val_loss: 0.0178 - val_acc: 0.9957\n",
      "Epoch 16/50\n",
      " - 23s - loss: 0.0204 - acc: 0.9942 - val_loss: 0.0211 - val_acc: 0.9948\n",
      "\n",
      "Epoch 00016: ReduceLROnPlateau reducing learning rate to 0.0002500000118743628.\n",
      "Epoch 17/50\n",
      " - 23s - loss: 0.0156 - acc: 0.9956 - val_loss: 0.0234 - val_acc: 0.9957\n",
      "Epoch 18/50\n",
      " - 23s - loss: 0.0135 - acc: 0.9962 - val_loss: 0.0224 - val_acc: 0.9948\n",
      "Epoch 19/50\n",
      " - 23s - loss: 0.0122 - acc: 0.9964 - val_loss: 0.0204 - val_acc: 0.9957\n",
      "\n",
      "Epoch 00019: ReduceLROnPlateau reducing learning rate to 0.0001250000059371814.\n",
      "Epoch 20/50\n",
      " - 23s - loss: 0.0113 - acc: 0.9968 - val_loss: 0.0183 - val_acc: 0.9967\n",
      "Epoch 21/50\n",
      " - 23s - loss: 0.0100 - acc: 0.9970 - val_loss: 0.0165 - val_acc: 0.9948\n",
      "Epoch 22/50\n",
      " - 23s - loss: 0.0107 - acc: 0.9968 - val_loss: 0.0175 - val_acc: 0.9967\n",
      "Epoch 23/50\n",
      " - 23s - loss: 0.0109 - acc: 0.9971 - val_loss: 0.0180 - val_acc: 0.9967\n",
      "\n",
      "Epoch 00023: ReduceLROnPlateau reducing learning rate to 6.25000029685907e-05.\n",
      "Epoch 24/50\n",
      " - 24s - loss: 0.0095 - acc: 0.9973 - val_loss: 0.0165 - val_acc: 0.9962\n",
      "Epoch 25/50\n",
      " - 24s - loss: 0.0087 - acc: 0.9976 - val_loss: 0.0183 - val_acc: 0.9962\n",
      "Epoch 26/50\n",
      " - 25s - loss: 0.0093 - acc: 0.9975 - val_loss: 0.0177 - val_acc: 0.9967\n",
      "\n",
      "Epoch 00026: ReduceLROnPlateau reducing learning rate to 3.125000148429535e-05.\n",
      "Epoch 27/50\n",
      " - 23s - loss: 0.0084 - acc: 0.9974 - val_loss: 0.0169 - val_acc: 0.9962\n",
      "Epoch 28/50\n",
      " - 23s - loss: 0.0075 - acc: 0.9979 - val_loss: 0.0170 - val_acc: 0.9962\n",
      "Epoch 29/50\n",
      " - 23s - loss: 0.0070 - acc: 0.9976 - val_loss: 0.0164 - val_acc: 0.9962\n",
      "\n",
      "Epoch 00029: ReduceLROnPlateau reducing learning rate to 1.5625000742147677e-05.\n",
      "Epoch 30/50\n",
      " - 23s - loss: 0.0078 - acc: 0.9977 - val_loss: 0.0163 - val_acc: 0.9962\n",
      "Epoch 31/50\n",
      " - 23s - loss: 0.0078 - acc: 0.9976 - val_loss: 0.0169 - val_acc: 0.9962\n",
      "Epoch 32/50\n",
      " - 23s - loss: 0.0081 - acc: 0.9977 - val_loss: 0.0179 - val_acc: 0.9967\n",
      "\n",
      "Epoch 00032: ReduceLROnPlateau reducing learning rate to 1e-05.\n",
      "Epoch 33/50\n",
      " - 23s - loss: 0.0068 - acc: 0.9978 - val_loss: 0.0180 - val_acc: 0.9971\n",
      "Epoch 34/50\n",
      " - 23s - loss: 0.0073 - acc: 0.9979 - val_loss: 0.0179 - val_acc: 0.9967\n",
      "Epoch 35/50\n",
      " - 23s - loss: 0.0079 - acc: 0.9975 - val_loss: 0.0167 - val_acc: 0.9967\n",
      "Epoch 36/50\n",
      " - 23s - loss: 0.0072 - acc: 0.9979 - val_loss: 0.0170 - val_acc: 0.9967\n",
      "Epoch 37/50\n",
      " - 24s - loss: 0.0073 - acc: 0.9979 - val_loss: 0.0164 - val_acc: 0.9967\n",
      "Epoch 38/50\n",
      " - 23s - loss: 0.0066 - acc: 0.9981 - val_loss: 0.0173 - val_acc: 0.9967\n",
      "Epoch 39/50\n",
      " - 23s - loss: 0.0070 - acc: 0.9980 - val_loss: 0.0171 - val_acc: 0.9967\n",
      "Epoch 40/50\n",
      " - 23s - loss: 0.0064 - acc: 0.9979 - val_loss: 0.0175 - val_acc: 0.9967\n",
      "Epoch 41/50\n",
      " - 24s - loss: 0.0077 - acc: 0.9977 - val_loss: 0.0175 - val_acc: 0.9971\n",
      "Epoch 42/50\n",
      " - 23s - loss: 0.0075 - acc: 0.9975 - val_loss: 0.0170 - val_acc: 0.9967\n",
      "Epoch 43/50\n",
      " - 23s - loss: 0.0074 - acc: 0.9978 - val_loss: 0.0171 - val_acc: 0.9967\n",
      "Epoch 44/50\n",
      " - 23s - loss: 0.0072 - acc: 0.9981 - val_loss: 0.0170 - val_acc: 0.9967\n",
      "Epoch 45/50\n",
      " - 23s - loss: 0.0073 - acc: 0.9978 - val_loss: 0.0175 - val_acc: 0.9971\n",
      "Epoch 46/50\n",
      " - 23s - loss: 0.0074 - acc: 0.9978 - val_loss: 0.0179 - val_acc: 0.9971\n",
      "Epoch 47/50\n",
      " - 23s - loss: 0.0062 - acc: 0.9981 - val_loss: 0.0180 - val_acc: 0.9971\n",
      "Epoch 48/50\n",
      " - 23s - loss: 0.0073 - acc: 0.9979 - val_loss: 0.0169 - val_acc: 0.9967\n",
      "Epoch 49/50\n",
      " - 23s - loss: 0.0075 - acc: 0.9976 - val_loss: 0.0169 - val_acc: 0.9967\n",
      "Epoch 50/50\n",
      " - 23s - loss: 0.0064 - acc: 0.9984 - val_loss: 0.0170 - val_acc: 0.9971\n"
     ]
    }
   ],
   "source": [
    "datagenerator.fit(X_train)\n",
    "history = model.fit_generator(datagenerator.flow(X_train,Y_train, batch_size=batch_size),\n",
    "                              epochs = epochs, validation_data = (X_test,Y_test),\n",
    "                              verbose = 2, steps_per_epoch=X_train.shape[0] // batch_size\n",
    "                              , callbacks=[lr_reduce])\n"
   ]
  },
  {
   "cell_type": "markdown",
   "metadata": {},
   "source": [
    "## Visualizing Data"
   ]
  },
  {
   "cell_type": "code",
   "execution_count": 15,
   "metadata": {},
   "outputs": [
    {
     "data": {
      "image/png": "[encoded data removed]",
      "text/plain": [
       "<Figure size 432x288 with 2 Axes>"
      ]
     },
     "metadata": {},
     "output_type": "display_data"
    }
   ],
   "source": [
    "# Plotting a graph between Training Loss & validation loss\n",
    "fig, ax = plt.subplots(2,1)\n",
    "ax[0].plot(history.history['loss'], color='b', label=\"Training loss\")\n",
    "ax[0].plot(history.history['val_loss'], color='r', label=\"validation loss\",axes =ax[0])\n",
    "legend = ax[0].legend(loc='best', shadow=True)\n",
    "\n",
    "ax[1].plot(history.history['acc'], color='b', label=\"Training accuracy\")\n",
    "ax[1].plot(history.history['val_acc'], color='r',label=\"Validation accuracy\")\n",
    "legend = ax[1].legend(loc='best', shadow=True)"
   ]
  },
  {
   "cell_type": "code",
   "execution_count": 16,
   "metadata": {},
   "outputs": [],
   "source": [
    "def plot_confusion_matrix(cm, classes,\n",
    "                          normalize=False,\n",
    "                          title='Confusion matrix',\n",
    "                          cmap=plt.cm.Blues):\n",
    "    \"\"\"\n",
    "    This function prints and plots the confusion matrix.\n",
    "    Normalization can be applied by setting `normalize=True`.\n",
    "    \"\"\"\n",
    "    plt.imshow(cm, interpolation='nearest', cmap=cmap)\n",
    "    plt.title(title)\n",
    "    plt.colorbar()\n",
    "    tick_marks = np.arange(len(classes))\n",
    "    plt.xticks(tick_marks, classes, rotation=45)\n",
    "    plt.yticks(tick_marks, classes)\n",
    "\n",
    "    if normalize:\n",
    "        cm = cm.astype('float') / cm.sum(axis=1)[:, np.newaxis]\n",
    "\n",
    "    thresh = cm.max() / 2.\n",
    "    for i, j in itertools.product(range(cm.shape[0]), range(cm.shape[1])):\n",
    "        plt.text(j, i, cm[i, j],\n",
    "                 horizontalalignment=\"center\",\n",
    "                 color=\"white\" if cm[i, j] > thresh else \"black\")\n",
    "\n",
    "    plt.tight_layout()\n",
    "    plt.ylabel('True label')\n",
    "    plt.xlabel('Predicted label')"
   ]
  },
  {
   "cell_type": "code",
   "execution_count": 22,
   "metadata": {},
   "outputs": [
    {
     "data": {
      "image/png": "[encoded data removed]",
      "text/plain": [
       "<Figure size 432x288 with 2 Axes>"
      ]
     },
     "metadata": {},
     "output_type": "display_data"
    }
   ],
   "source": [
    "from sklearn.metrics import confusion_matrix\n",
    "import itertools\n",
    "Y_pred = model.predict(X_test)\n",
    "Y_pred_classes = np.argmax(Y_pred,axis = 1) \n",
    "Y_true = np.argmax(Y_test,axis = 1) \n",
    "confusion_mtx = confusion_matrix(Y_true, Y_pred_classes) \n",
    "plot_confusion_matrix(confusion_mtx, classes = range(10)) \n"
   ]
  },
  {
   "cell_type": "markdown",
   "metadata": {},
   "source": [
    "As we can see there are very few wrong Predictions being 6/2200"
   ]
  },
  {
   "cell_type": "markdown",
   "metadata": {},
   "source": [
    "## You can now use the model to predict on test & submit result on kaggle\n",
    "__Code for Predicting :__\n",
    "results = model.predict(test)\n"
   ]
  },
  {
   "cell_type": "markdown",
   "metadata": {},
   "source": [
    "__NOTE__ : Many parts of Notebook are inspired from other notebooks like [Yassine Ghouzam](https://www.kaggle.com/yassineghouzam/introduction-to-cnn-keras-0-997-top-6)\n",
    "I've just learnt from them & then composed the Notebook."
   ]
  },
  {
   "cell_type": "code",
   "execution_count": null,
   "metadata": {},
   "outputs": [],
   "source": []
  }
 ],
 "metadata": {
  "kernelspec": {
   "display_name": "Python 3",
   "language": "python",
   "name": "python3"
  },
  "language_info": {
   "codemirror_mode": {
    "name": "ipython",
    "version": 3
   },
   "file_extension": ".py",
   "mimetype": "text/x-python",
   "name": "python",
   "nbconvert_exporter": "python",
   "pygments_lexer": "ipython3",
   "version": "3.6.6"
  }
 },
 "nbformat": 4,
 "nbformat_minor": 2
}
